{
 "cells": [
  {
   "cell_type": "code",
   "execution_count": null,
   "metadata": {},
   "outputs": [],
   "source": [
    "#author: Vidyut Veedgav\n",
    "\n",
    "import random as rand\n",
    "\n",
    "title = \"Word Warriors!\""
   ]
  },
  {
   "cell_type": "code",
   "execution_count": null,
   "metadata": {},
   "outputs": [],
   "source": [
    "#Converting a text file containing word documents into a list of words\n",
    "\n",
    "word_list = []\n",
    "\n",
    "with open(\"words.txt\", \"r\") as word_file:\n",
    "\n",
    "    word_list = word_file.read().split(\"\\t\")\n",
    "    temp_list = []\n",
    "\n",
    "    for word in word_list:\n",
    "        if len(word) > 5:\n",
    "            double_word = word.replace(\"\\n\", \"\")\n",
    "            w1 = double_word[:5]\n",
    "            w2 = double_word[5:10]\n",
    "            temp_list.append(w1)\n",
    "            temp_list.append(w2)\n",
    "        else:\n",
    "            temp_list.append(word)\n",
    "        \n",
    "        word_list = temp_list[:-20]\n",
    "\n",
    "print(word_list)"
   ]
  },
  {
   "cell_type": "code",
   "execution_count": null,
   "metadata": {},
   "outputs": [],
   "source": [
    "#Choosing a random word from the word list\n",
    "\n",
    "def generate_target():\n",
    "    target_word = rand.choice(word_list)\n",
    "    if len(target_word) < 5 or target_word[0] == ' ':\n",
    "        return generate_target()\n",
    "    else:\n",
    "        return target_word\n",
    "\n",
    "print(generate_target())"
   ]
  },
  {
   "cell_type": "code",
   "execution_count": null,
   "metadata": {},
   "outputs": [],
   "source": [
    "#defining game state variables\n",
    "\n",
    "letters_not_included = []\n",
    "letters_misplaced = []\n",
    "max_turns = 5\n",
    "current_turn = max_turns\n",
    "\n",
    "def start():\n",
    "    print(\"Welcome to: \" + title)\n",
    "    print(\"There are 5 letters in the word to guess\")\n",
    "    print(\"You have \" + str(current_turns) + \" left\")\n",
    "    return\n",
    "\n",
    "print(start())\n"
   ]
  },
  {
   "cell_type": "code",
   "execution_count": null,
   "metadata": {},
   "outputs": [],
   "source": [
    "#creating the game loop\n",
    "\n",
    "while current_turn > 0:\n",
    "    "
   ]
  }
 ],
 "metadata": {
  "kernelspec": {
   "display_name": "Python 3",
   "language": "python",
   "name": "python3"
  },
  "language_info": {
   "codemirror_mode": {
    "name": "ipython",
    "version": 3
   },
   "file_extension": ".py",
   "mimetype": "text/x-python",
   "name": "python",
   "nbconvert_exporter": "python",
   "pygments_lexer": "ipython3",
   "version": "3.11.4"
  },
  "orig_nbformat": 4
 },
 "nbformat": 4,
 "nbformat_minor": 2
}
