{
 "cells": [
  {
   "cell_type": "code",
   "execution_count": null,
   "metadata": {},
   "outputs": [],
   "source": [
    "#author: Vidyut Veedgav\n",
    "\n",
    "import random as rand\n",
    "\n",
    "title = \"Word Warriors!\""
   ]
  },
  {
   "cell_type": "code",
   "execution_count": null,
   "metadata": {},
   "outputs": [],
   "source": [
    "#Converting a text file containing word documents into a list of words\n",
    "\n",
    "word_list = []\n",
    "\n",
    "with open(\"words.txt\", \"r\") as word_file:\n",
    "\n",
    "    word_list = word_file.read().split(\"\\t\")\n",
    "    temp_list = []\n",
    "\n",
    "    for word in word_list:\n",
    "        if len(word) > 5:\n",
    "            double_word = word.replace(\"\\n\", \"\")\n",
    "            w1 = double_word[:5]\n",
    "            w2 = double_word[5:10]\n",
    "            temp_list.append(w1)\n",
    "            temp_list.append(w2)\n",
    "        else:\n",
    "            temp_list.append(word)\n",
    "        \n",
    "        word_list = temp_list[:-20]\n",
    "\n",
    "print(word_list)"
   ]
  },
  {
   "cell_type": "code",
   "execution_count": null,
   "metadata": {},
   "outputs": [],
   "source": [
    "#Choosing a random word from the word list\n",
    "\n",
    "def generate_target():\n",
    "    target_word = rand.choice(word_list)\n",
    "    if len(target_word) < 5 or target_word[0] == ' ':\n",
    "        return generate_target()\n",
    "    else:\n",
    "        return target_word\n",
    "\n",
    "target = generate_target()\n",
    "print(target)"
   ]
  },
  {
   "cell_type": "code",
   "execution_count": null,
   "metadata": {},
   "outputs": [],
   "source": [
    "#defining game state variables\n",
    "\n",
    "letters_incorrect = []\n",
    "letters_misplaced = []\n",
    "max_turns = 5\n",
    "current_turn = 1\n",
    "\n",
    "def start():\n",
    "    print(\"Welcome to: \" + title)\n",
    "    print(\"There are 5 letters in the word to guess\")\n",
    "    print(\"You are on turn: \" + str(current_turn))\n",
    "    return\n"
   ]
  },
  {
   "cell_type": "code",
   "execution_count": null,
   "metadata": {},
   "outputs": [],
   "source": [
    "#creating the game loop\n",
    "\n",
    "guess_builder = [\"_\", \"_\", \"_\", \"_\", \"_\"]\n",
    "\n",
    "print(start())\n",
    "\n",
    "while (True):\n",
    "\n",
    "    guess = input(\"Enter a 5 letter word\")\n",
    "    if (len(guess) != 5 or not guess.isalpha()):\n",
    "        print(\"ERROR: guess is invalid\")\n",
    "    guess = guess.lower()\n",
    "\n",
    "    #checking each letter for a match\n",
    "    for i in range(5):\n",
    "        \n",
    "        if (guess[i] == target[i]):\n",
    "            if (guess[i] in letters_misplaced):\n",
    "                letters_misplaced.remove(guess[i])\n",
    "            guess_builder[i] = guess[i].upper()\n",
    "            \n",
    "        elif (guess[i] in target and guess[i] != target[i] and guess[i] not in letters_misplaced):\n",
    "            letters_misplaced.append(guess[i])\n",
    "            guess_builder[i] = \"_\"\n",
    "\n",
    "        elif (guess[i] not in target and guess[i] not in letters_incorrect):\n",
    "            letters_incorrect.append(guess[i])\n",
    "            guess_builder[i] = \"_\"\n",
    "    \n",
    "    #printing game feedback for the user\n",
    "    print(\"\\n\")\n",
    "    print(guess_builder)\n",
    "    print(\"Misplaced Letters: \", end=\"\")\n",
    "    print(letters_misplaced)\n",
    "    print(\"Incorrect Letters: \", end=\"\" )\n",
    "    print(letters_incorrect)\n",
    "\n",
    "    #break conditions\n",
    "    if (guess == target):\n",
    "        print(\"YOU WON!\" + \"It only took you \" + str(current_turn) + \" turns!\" )\n",
    "        break\n",
    "    elif (current_turn == 5):\n",
    "        print(\"GAME OVER\")\n",
    "        break\n",
    "    else:\n",
    "        print(\"Turns remaining: \" + str(5 - current_turn))\n",
    "\n",
    "    current_turn += 1"
   ]
  }
 ],
 "metadata": {
  "kernelspec": {
   "display_name": "Python 3",
   "language": "python",
   "name": "python3"
  },
  "language_info": {
   "codemirror_mode": {
    "name": "ipython",
    "version": 3
   },
   "file_extension": ".py",
   "mimetype": "text/x-python",
   "name": "python",
   "nbconvert_exporter": "python",
   "pygments_lexer": "ipython3",
   "version": "3.11.4"
  },
  "orig_nbformat": 4
 },
 "nbformat": 4,
 "nbformat_minor": 2
}
